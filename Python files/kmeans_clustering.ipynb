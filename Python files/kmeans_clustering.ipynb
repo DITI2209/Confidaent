{
 "cells": [
  {
   "cell_type": "code",
   "execution_count": 1,
   "id": "16e7e923",
   "metadata": {},
   "outputs": [],
   "source": [
    "#importing the required modules\n",
    "import numpy as np\n",
    "import matplotlib.pyplot as plt\n",
    "import pandas as pd\n",
    "from sklearn.preprocessing import StandardScaler\n",
    "from sklearn.cluster import KMeans\n",
    "from sklearn.decomposition import KernelPCA"
   ]
  },
  {
   "cell_type": "code",
   "execution_count": 3,
   "id": "3c033332",
   "metadata": {},
   "outputs": [],
   "source": [
    "#Reading the dataset\n",
    "data = pd.read_csv('crime.csv')"
   ]
  },
  {
   "cell_type": "code",
   "execution_count": 5,
   "id": "b75a16eb",
   "metadata": {},
   "outputs": [
    {
     "data": {
      "text/plain": [
       "array([[  2.        ,   6.        ,   1.        , ...,  19.        ,\n",
       "          7.        , 192.5297308 ],\n",
       "       [  8.        ,  28.        ,   0.        , ...,  26.        ,\n",
       "         16.        , 116.7299125 ],\n",
       "       [  3.        ,  28.        ,   1.        , ...,  63.        ,\n",
       "         15.        , 606.5861022 ],\n",
       "       ...,\n",
       "       [  6.        ,  25.        ,   1.        , ...,  42.        ,\n",
       "          8.        ,  91.38084635],\n",
       "       [  7.        ,  15.        ,   2.        , ...,  19.        ,\n",
       "          7.        , 139.572255  ],\n",
       "       [  2.        ,   6.        ,   2.        , ...,  19.        ,\n",
       "          8.        , 233.0267481 ]])"
      ]
     },
     "execution_count": 5,
     "metadata": {},
     "output_type": "execute_result"
    }
   ],
   "source": [
    "#extracts the values of all crimes and crime/area\n",
    "a = data.iloc[:, [1,2,3,4,5,6,7,12]].values  \n",
    "a"
   ]
  },
  {
   "cell_type": "code",
   "execution_count": 7,
   "id": "d6f7b990",
   "metadata": {},
   "outputs": [
    {
     "data": {
      "text/plain": [
       "array([[-5.27237015e-01, -7.47430695e-01,  5.46264038e-02, ...,\n",
       "         3.22832042e-03, -3.42881284e-01,  1.81431485e-01],\n",
       "       [ 1.60742992e+00,  2.10483357e+00, -7.69735690e-01, ...,\n",
       "         5.39129510e-01,  9.06544664e-01, -3.48336410e-01],\n",
       "       [-1.71459192e-01,  2.10483357e+00,  5.46264038e-02, ...,\n",
       "         3.37175008e+00,  7.67719559e-01,  3.07528766e+00],\n",
       "       ...,\n",
       "       [ 8.95874278e-01,  1.71588844e+00,  5.46264038e-02, ...,\n",
       "         1.76404651e+00, -2.04056179e-01, -5.25502025e-01],\n",
       "       [ 1.25165210e+00,  4.19404685e-01,  8.78988498e-01, ...,\n",
       "         3.22832042e-03, -3.42881284e-01, -1.88690385e-01],\n",
       "       [-5.27237015e-01, -7.47430695e-01,  8.78988498e-01, ...,\n",
       "         3.22832042e-03, -2.04056179e-01,  4.64466724e-01]])"
      ]
     },
     "execution_count": 7,
     "metadata": {},
     "output_type": "execute_result"
    }
   ],
   "source": [
    "sc_a = StandardScaler() \n",
    "a = sc_a.fit_transform(a)#scales the object to fit in the required range\n",
    "a"
   ]
  },
  {
   "cell_type": "code",
   "execution_count": 9,
   "id": "df416f85",
   "metadata": {},
   "outputs": [
    {
     "data": {
      "text/plain": [
       "[1327.9999999999998,\n",
       " 996.6151424286375,\n",
       " 871.9102681805609,\n",
       " 772.805403744786,\n",
       " 711.2396067923486,\n",
       " 660.6275660059493,\n",
       " 619.0829548622826,\n",
       " 570.2878781509746,\n",
       " 546.6994595248078,\n",
       " 512.9764502206174,\n",
       " 494.20567326845656,\n",
       " 470.67133647403136,\n",
       " 453.85732035253477,\n",
       " 438.30057896030974,\n",
       " 430.52139291382707,\n",
       " 403.4562311134484,\n",
       " 393.3724298435012,\n",
       " 379.5808465826283,\n",
       " 376.7791171364844,\n",
       " 365.1175946122928]"
      ]
     },
     "execution_count": 9,
     "metadata": {},
     "output_type": "execute_result"
    }
   ],
   "source": [
    "wcss = []\n",
    "for i in range(1, 21):\n",
    "    kmeans = KMeans(n_clusters = i, init = 'k-means++', random_state = 42)\n",
    "    kmeans.fit(a)\n",
    "    wcss.append(kmeans.inertia_)\n",
    "wcss"
   ]
  },
  {
   "cell_type": "code",
   "execution_count": 10,
   "id": "cbfa960d",
   "metadata": {},
   "outputs": [
    {
     "data": {
      "image/png": "[encoded data removed]",
      "text/plain": [
       "<Figure size 432x288 with 1 Axes>"
      ]
     },
     "metadata": {
      "needs_background": "light"
     },
     "output_type": "display_data"
    }
   ],
   "source": [
    "#Visualizing the number of clusters using Elbow method\n",
    "plt.plot(range(1, 21), wcss)\n",
    "plt.title('The Elbow Method')\n",
    "plt.xlabel('Number of clusters')\n",
    "plt.ylabel('WCSS')\n",
    "plt.show()"
   ]
  },
  {
   "cell_type": "code",
   "execution_count": 13,
   "id": "47f4c73c",
   "metadata": {},
   "outputs": [],
   "source": [
    "k_means = KMeans(n_clusters = 6, init = 'k-means++', random_state = 42)\n",
    "b_kmeans = k_means.fit_predict(a)"
   ]
  },
  {
   "cell_type": "code",
   "execution_count": 15,
   "id": "a84e72bf",
   "metadata": {},
   "outputs": [
    {
     "data": {
      "text/plain": [
       "array([[ 0.10540624,  0.51001621],\n",
       "       [-0.38452984, -0.27421571],\n",
       "       [-0.25174138, -0.29517924],\n",
       "       [ 0.15301902,  0.42036558],\n",
       "       [ 0.12025227,  0.40889467],\n",
       "       [-0.38180221, -0.18675696],\n",
       "       [-0.0711409 ,  0.11124894],\n",
       "       [-0.05654444,  0.19737937],\n",
       "       [-0.0842666 ,  0.45524092],\n",
       "       [-0.24653164,  0.37006164],\n",
       "       [ 0.5445581 , -0.14757561],\n",
       "       [-0.43393721, -0.0050741 ],\n",
       "       [ 0.19149809,  0.0600477 ],\n",
       "       [-0.45742903, -0.04401679],\n",
       "       [ 0.59728148, -0.07084553],\n",
       "       [-0.35718801, -0.01941787],\n",
       "       [-0.21336237, -0.19885397],\n",
       "       [-0.37007929,  0.06312392],\n",
       "       [-0.22250876, -0.29513614],\n",
       "       [ 0.44144108, -0.21283735],\n",
       "       [-0.25720713,  0.30253597],\n",
       "       [ 0.14813588, -0.09075035],\n",
       "       [-0.03090801,  0.2926862 ],\n",
       "       [-0.06505097,  0.38612719],\n",
       "       [-0.36955749, -0.10212159],\n",
       "       [-0.16587852,  0.39834553],\n",
       "       [-0.23575182,  0.16421717],\n",
       "       [-0.01111278,  0.32330711],\n",
       "       [-0.03996317,  0.42384555],\n",
       "       [-0.27269236, -0.03685259],\n",
       "       [ 0.45463028, -0.27212686],\n",
       "       [-0.22471575, -0.27804471],\n",
       "       [ 0.55121663, -0.28338583],\n",
       "       [-0.12152294,  0.4872354 ],\n",
       "       [ 0.01764157,  0.16678325],\n",
       "       [ 0.5988928 , -0.14231035],\n",
       "       [ 0.59914403, -0.14415039],\n",
       "       [-0.04064234,  0.32825852],\n",
       "       [ 0.61949399, -0.04766538],\n",
       "       [ 0.11262839,  0.04877006],\n",
       "       [-0.30849469, -0.36327664],\n",
       "       [ 0.64432371, -0.31994085],\n",
       "       [-0.00939724,  0.35302394],\n",
       "       [-0.31354101, -0.18133668],\n",
       "       [-0.44259375, -0.15695772],\n",
       "       [ 0.66301334, -0.0929848 ],\n",
       "       [-0.23990625, -0.25148718],\n",
       "       [-0.34168452, -0.05749781],\n",
       "       [-0.27685094,  0.12059597],\n",
       "       [ 0.60495883, -0.37012942],\n",
       "       [-0.009265  ,  0.21585083],\n",
       "       [-0.34476771, -0.1534533 ],\n",
       "       [ 0.10708549,  0.222012  ],\n",
       "       [ 0.13707988,  0.25504877],\n",
       "       [-0.35816519,  0.12226197],\n",
       "       [-0.31485727,  0.10635246],\n",
       "       [-0.29790264, -0.09258223],\n",
       "       [-0.25749202, -0.29692277],\n",
       "       [-0.41295695,  0.072198  ],\n",
       "       [-0.31966889, -0.10769185],\n",
       "       [-0.26915028,  0.26716204],\n",
       "       [ 0.50913636, -0.04072965],\n",
       "       [ 0.51301955, -0.10468273],\n",
       "       [-0.19619667, -0.35705007],\n",
       "       [ 0.64295418, -0.30528715],\n",
       "       [-0.21139039, -0.30655387],\n",
       "       [-0.17889971,  0.38288496],\n",
       "       [ 0.27668942,  0.09381172],\n",
       "       [-0.33922069,  0.28135437],\n",
       "       [-0.29426213,  0.25915533],\n",
       "       [-0.41840992, -0.31958286],\n",
       "       [-0.07295991, -0.06223629],\n",
       "       [-0.33688517, -0.18312282],\n",
       "       [-0.11983189,  0.05048444],\n",
       "       [-0.30124918, -0.17469452],\n",
       "       [ 0.44333308,  0.07743257],\n",
       "       [ 0.46992884,  0.18820604],\n",
       "       [-0.14286567,  0.36349796],\n",
       "       [ 0.07632473, -0.14586258],\n",
       "       [ 0.08297282,  0.14488671],\n",
       "       [-0.1029192 ,  0.35739986],\n",
       "       [-0.22092662, -0.27239727],\n",
       "       [-0.41711455,  0.02841184],\n",
       "       [-0.34214944, -0.19807188],\n",
       "       [-0.25061246, -0.30172033],\n",
       "       [-0.25328697,  0.39042246],\n",
       "       [ 0.58691039, -0.03397383],\n",
       "       [-0.1531399 , -0.29345607],\n",
       "       [-0.32156971, -0.04076824],\n",
       "       [-0.38180221, -0.18675696],\n",
       "       [-0.38317061, -0.03218183],\n",
       "       [ 0.67745055, -0.18853139],\n",
       "       [ 0.51063799,  0.00361457],\n",
       "       [-0.28682677, -0.09996084],\n",
       "       [ 0.14097663, -0.01012101],\n",
       "       [-0.32582958, -0.39281316],\n",
       "       [-0.0711409 ,  0.11124894],\n",
       "       [-0.13458374,  0.31943196],\n",
       "       [ 0.54595222, -0.14027915],\n",
       "       [-0.27012749, -0.20909224],\n",
       "       [ 0.54904991, -0.2923672 ],\n",
       "       [ 0.07417284,  0.12154095],\n",
       "       [ 0.10428974,  0.04174847],\n",
       "       [-0.25556352, -0.00839627],\n",
       "       [-0.07809708,  0.45363836],\n",
       "       [-0.30672721, -0.19001771],\n",
       "       [-0.02950395,  0.43881675],\n",
       "       [ 0.59599983, -0.1104787 ],\n",
       "       [ 0.42573936, -0.00503996],\n",
       "       [ 0.56165416, -0.00608137],\n",
       "       [ 0.34537228,  0.2049966 ],\n",
       "       [ 0.36404607,  0.07898714],\n",
       "       [ 0.0540761 ,  0.34490818],\n",
       "       [-0.28056977, -0.25772542],\n",
       "       [ 0.61509429, -0.3061761 ],\n",
       "       [ 0.35194312,  0.17244645],\n",
       "       [ 0.04771396,  0.4176985 ],\n",
       "       [-0.23799418, -0.21123057],\n",
       "       [ 0.17989993,  0.17900193],\n",
       "       [-0.34476771, -0.1534533 ],\n",
       "       [ 0.65559304, -0.0563047 ],\n",
       "       [-0.3419135 , -0.12782857],\n",
       "       [-0.25188387, -0.28092778],\n",
       "       [ 0.57680745, -0.00512012],\n",
       "       [-0.29024488,  0.3607368 ],\n",
       "       [-0.2354613 , -0.31211684],\n",
       "       [-0.241893  , -0.29204464],\n",
       "       [-0.04505691,  0.40224341],\n",
       "       [ 0.55904161, -0.3217088 ],\n",
       "       [-0.07375833, -0.14450256],\n",
       "       [-0.21543366, -0.28164994],\n",
       "       [-0.21346977, -0.2189655 ],\n",
       "       [-0.21314641, -0.27791628],\n",
       "       [-0.03967365,  0.05571913],\n",
       "       [-0.06434779,  0.26864516],\n",
       "       [-0.36123223, -0.15563006],\n",
       "       [ 0.02169909,  0.21838604],\n",
       "       [-0.15543407,  0.10556644],\n",
       "       [-0.0555909 ,  0.36849989],\n",
       "       [ 0.01116625,  0.40802807],\n",
       "       [-0.06101944,  0.124956  ],\n",
       "       [-0.3425045 , -0.16799073],\n",
       "       [-0.31505809, -0.31857922],\n",
       "       [ 0.29201283,  0.13161072],\n",
       "       [ 0.50658149,  0.07349238],\n",
       "       [-0.36277073, -0.24854788],\n",
       "       [ 0.12004462,  0.38312229],\n",
       "       [-0.1590127 ,  0.17777746],\n",
       "       [ 0.62642771, -0.33588837],\n",
       "       [ 0.50175024,  0.04110366],\n",
       "       [-0.28530264,  0.26398553],\n",
       "       [-0.37281561, -0.33287852],\n",
       "       [-0.1082701 , -0.17709486],\n",
       "       [ 0.39769054, -0.02559659],\n",
       "       [-0.23528748, -0.27827198],\n",
       "       [ 0.18237551,  0.41672771],\n",
       "       [ 0.64105747, -0.12672168],\n",
       "       [-0.25786058, -0.26569754],\n",
       "       [ 0.65824818, -0.32728273],\n",
       "       [ 0.52091751,  0.11812172],\n",
       "       [-0.4382077 , -0.34625975],\n",
       "       [ 0.64292757, -0.23528929],\n",
       "       [ 0.2107015 ,  0.31847807],\n",
       "       [-0.39713194, -0.32145523],\n",
       "       [-0.28899628, -0.12794489],\n",
       "       [ 0.0840502 ,  0.2464626 ]])"
      ]
     },
     "execution_count": 15,
     "metadata": {},
     "output_type": "execute_result"
    }
   ],
   "source": [
    "kpca = KernelPCA(n_components = 2, kernel = 'rbf')\n",
    "a = kpca.fit_transform(a)\n",
    "a"
   ]
  },
  {
   "cell_type": "code",
   "execution_count": 16,
   "id": "a72661de",
   "metadata": {},
   "outputs": [
    {
     "data": {
      "text/plain": [
       "<matplotlib.collections.PathCollection at 0x273faa18c70>"
      ]
     },
     "execution_count": 16,
     "metadata": {},
     "output_type": "execute_result"
    },
    {
     "data": {
      "image/png": "[encoded data removed]",
      "text/plain": [
       "<Figure size 432x288 with 1 Axes>"
      ]
     },
     "metadata": {
      "needs_background": "light"
     },
     "output_type": "display_data"
    }
   ],
   "source": [
    "plt.scatter(a[b_kmeans == 0, 0], a[b_kmeans == 0, 1], s = 100, c = 'red')\n",
    "plt.scatter(a[b_kmeans == 1, 0], a[b_kmeans == 1, 1], s = 100, c = 'blue')\n",
    "plt.scatter(a[b_kmeans == 2, 0], a[b_kmeans == 2, 1], s = 100, c = 'green')\n",
    "plt.scatter(a[b_kmeans == 3, 0], a[b_kmeans == 3, 1], s = 100, c = 'cyan')\n",
    "plt.scatter(a[b_kmeans == 4, 0], a[b_kmeans == 4, 1], s = 100, c = 'magenta' )\n",
    "plt.scatter(a[b_kmeans == 5, 0], a[b_kmeans == 5, 1], s = 100, c = 'black' )"
   ]
  }
 ],
 "metadata": {
  "kernelspec": {
   "display_name": "Python 3 (ipykernel)",
   "language": "python",
   "name": "python3"
  },
  "language_info": {
   "codemirror_mode": {
    "name": "ipython",
    "version": 3
   },
   "file_extension": ".py",
   "mimetype": "text/x-python",
   "name": "python",
   "nbconvert_exporter": "python",
   "pygments_lexer": "ipython3",
   "version": "3.9.6"
  }
 },
 "nbformat": 4,
 "nbformat_minor": 5
}
